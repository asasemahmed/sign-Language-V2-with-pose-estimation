{
 "cells": [
  {
   "cell_type": "markdown",
   "metadata": {},
   "source": [
    "# Import lib"
   ]
  },
  {
   "cell_type": "code",
   "execution_count": 46,
   "metadata": {},
   "outputs": [],
   "source": [
    "import pandas as pd\n",
    "import numpy as np\n",
    "import matplotlib.pyplot as plt\n",
    "import seaborn as sns\n",
    "from sklearn.metrics import classification_report, confusion_matrix\n",
    "from sklearn.ensemble import RandomForestClassifier\n",
    "from sklearn.model_selection import train_test_split\n",
    "import pickle as pkl"
   ]
  },
  {
   "cell_type": "markdown",
   "metadata": {},
   "source": [
    "# Read the data"
   ]
  },
  {
   "cell_type": "code",
   "execution_count": 73,
   "metadata": {},
   "outputs": [
    {
     "data": {
      "text/html": [
       "<div>\n",
       "<style scoped>\n",
       "    .dataframe tbody tr th:only-of-type {\n",
       "        vertical-align: middle;\n",
       "    }\n",
       "\n",
       "    .dataframe tbody tr th {\n",
       "        vertical-align: top;\n",
       "    }\n",
       "\n",
       "    .dataframe thead th {\n",
       "        text-align: right;\n",
       "    }\n",
       "</style>\n",
       "<table border=\"1\" class=\"dataframe\">\n",
       "  <thead>\n",
       "    <tr style=\"text-align: right;\">\n",
       "      <th></th>\n",
       "      <th>x1_0</th>\n",
       "      <th>x1_1</th>\n",
       "      <th>x1_2</th>\n",
       "      <th>x1_3</th>\n",
       "      <th>x1_4</th>\n",
       "      <th>x1_5</th>\n",
       "      <th>x1_6</th>\n",
       "      <th>x1_7</th>\n",
       "      <th>x1_8</th>\n",
       "      <th>x1_9</th>\n",
       "      <th>...</th>\n",
       "      <th>x2_12</th>\n",
       "      <th>x2_13</th>\n",
       "      <th>x2_14</th>\n",
       "      <th>x2_15</th>\n",
       "      <th>x2_16</th>\n",
       "      <th>x2_17</th>\n",
       "      <th>x2_18</th>\n",
       "      <th>x2_19</th>\n",
       "      <th>x2_20</th>\n",
       "      <th>label</th>\n",
       "    </tr>\n",
       "  </thead>\n",
       "  <tbody>\n",
       "    <tr>\n",
       "      <th>0</th>\n",
       "      <td>473</td>\n",
       "      <td>490</td>\n",
       "      <td>482</td>\n",
       "      <td>475</td>\n",
       "      <td>474</td>\n",
       "      <td>433</td>\n",
       "      <td>409</td>\n",
       "      <td>400</td>\n",
       "      <td>391</td>\n",
       "      <td>409</td>\n",
       "      <td>...</td>\n",
       "      <td>0</td>\n",
       "      <td>0</td>\n",
       "      <td>0</td>\n",
       "      <td>0</td>\n",
       "      <td>0</td>\n",
       "      <td>0</td>\n",
       "      <td>0</td>\n",
       "      <td>0</td>\n",
       "      <td>0</td>\n",
       "      <td>I Love You</td>\n",
       "    </tr>\n",
       "    <tr>\n",
       "      <th>1</th>\n",
       "      <td>493</td>\n",
       "      <td>505</td>\n",
       "      <td>492</td>\n",
       "      <td>469</td>\n",
       "      <td>454</td>\n",
       "      <td>449</td>\n",
       "      <td>422</td>\n",
       "      <td>414</td>\n",
       "      <td>408</td>\n",
       "      <td>422</td>\n",
       "      <td>...</td>\n",
       "      <td>0</td>\n",
       "      <td>0</td>\n",
       "      <td>0</td>\n",
       "      <td>0</td>\n",
       "      <td>0</td>\n",
       "      <td>0</td>\n",
       "      <td>0</td>\n",
       "      <td>0</td>\n",
       "      <td>0</td>\n",
       "      <td>I Love You</td>\n",
       "    </tr>\n",
       "    <tr>\n",
       "      <th>2</th>\n",
       "      <td>428</td>\n",
       "      <td>445</td>\n",
       "      <td>449</td>\n",
       "      <td>451</td>\n",
       "      <td>452</td>\n",
       "      <td>406</td>\n",
       "      <td>374</td>\n",
       "      <td>357</td>\n",
       "      <td>343</td>\n",
       "      <td>377</td>\n",
       "      <td>...</td>\n",
       "      <td>0</td>\n",
       "      <td>0</td>\n",
       "      <td>0</td>\n",
       "      <td>0</td>\n",
       "      <td>0</td>\n",
       "      <td>0</td>\n",
       "      <td>0</td>\n",
       "      <td>0</td>\n",
       "      <td>0</td>\n",
       "      <td>I Love You</td>\n",
       "    </tr>\n",
       "    <tr>\n",
       "      <th>3</th>\n",
       "      <td>364</td>\n",
       "      <td>392</td>\n",
       "      <td>409</td>\n",
       "      <td>421</td>\n",
       "      <td>435</td>\n",
       "      <td>344</td>\n",
       "      <td>325</td>\n",
       "      <td>309</td>\n",
       "      <td>293</td>\n",
       "      <td>311</td>\n",
       "      <td>...</td>\n",
       "      <td>0</td>\n",
       "      <td>0</td>\n",
       "      <td>0</td>\n",
       "      <td>0</td>\n",
       "      <td>0</td>\n",
       "      <td>0</td>\n",
       "      <td>0</td>\n",
       "      <td>0</td>\n",
       "      <td>0</td>\n",
       "      <td>I Love You</td>\n",
       "    </tr>\n",
       "    <tr>\n",
       "      <th>4</th>\n",
       "      <td>354</td>\n",
       "      <td>387</td>\n",
       "      <td>406</td>\n",
       "      <td>417</td>\n",
       "      <td>430</td>\n",
       "      <td>342</td>\n",
       "      <td>318</td>\n",
       "      <td>299</td>\n",
       "      <td>283</td>\n",
       "      <td>311</td>\n",
       "      <td>...</td>\n",
       "      <td>0</td>\n",
       "      <td>0</td>\n",
       "      <td>0</td>\n",
       "      <td>0</td>\n",
       "      <td>0</td>\n",
       "      <td>0</td>\n",
       "      <td>0</td>\n",
       "      <td>0</td>\n",
       "      <td>0</td>\n",
       "      <td>I Love You</td>\n",
       "    </tr>\n",
       "  </tbody>\n",
       "</table>\n",
       "<p>5 rows × 43 columns</p>\n",
       "</div>"
      ],
      "text/plain": [
       "   x1_0  x1_1  x1_2  x1_3  x1_4  x1_5  x1_6  x1_7  x1_8  x1_9  ...  x2_12  \\\n",
       "0   473   490   482   475   474   433   409   400   391   409  ...      0   \n",
       "1   493   505   492   469   454   449   422   414   408   422  ...      0   \n",
       "2   428   445   449   451   452   406   374   357   343   377  ...      0   \n",
       "3   364   392   409   421   435   344   325   309   293   311  ...      0   \n",
       "4   354   387   406   417   430   342   318   299   283   311  ...      0   \n",
       "\n",
       "   x2_13  x2_14  x2_15  x2_16  x2_17  x2_18  x2_19  x2_20       label  \n",
       "0      0      0      0      0      0      0      0      0  I Love You  \n",
       "1      0      0      0      0      0      0      0      0  I Love You  \n",
       "2      0      0      0      0      0      0      0      0  I Love You  \n",
       "3      0      0      0      0      0      0      0      0  I Love You  \n",
       "4      0      0      0      0      0      0      0      0  I Love You  \n",
       "\n",
       "[5 rows x 43 columns]"
      ]
     },
     "execution_count": 73,
     "metadata": {},
     "output_type": "execute_result"
    }
   ],
   "source": [
    "data = pd.read_csv('xdata.csv')\n",
    "data.head()"
   ]
  },
  {
   "cell_type": "code",
   "execution_count": 74,
   "metadata": {},
   "outputs": [
    {
     "name": "stdout",
     "output_type": "stream",
     "text": [
      "<class 'pandas.core.frame.DataFrame'>\n",
      "RangeIndex: 10263 entries, 0 to 10262\n",
      "Data columns (total 43 columns):\n",
      " #   Column  Non-Null Count  Dtype \n",
      "---  ------  --------------  ----- \n",
      " 0   x1_0    10263 non-null  int64 \n",
      " 1   x1_1    10263 non-null  int64 \n",
      " 2   x1_2    10263 non-null  int64 \n",
      " 3   x1_3    10263 non-null  int64 \n",
      " 4   x1_4    10263 non-null  int64 \n",
      " 5   x1_5    10263 non-null  int64 \n",
      " 6   x1_6    10263 non-null  int64 \n",
      " 7   x1_7    10263 non-null  int64 \n",
      " 8   x1_8    10263 non-null  int64 \n",
      " 9   x1_9    10263 non-null  int64 \n",
      " 10  x1_10   10263 non-null  int64 \n",
      " 11  x1_11   10263 non-null  int64 \n",
      " 12  x1_12   10263 non-null  int64 \n",
      " 13  x1_13   10263 non-null  int64 \n",
      " 14  x1_14   10263 non-null  int64 \n",
      " 15  x1_15   10263 non-null  int64 \n",
      " 16  x1_16   10263 non-null  int64 \n",
      " 17  x1_17   10263 non-null  int64 \n",
      " 18  x1_18   10263 non-null  int64 \n",
      " 19  x1_19   10263 non-null  int64 \n",
      " 20  x1_20   10263 non-null  int64 \n",
      " 21  x2_0    10263 non-null  int64 \n",
      " 22  x2_1    10263 non-null  int64 \n",
      " 23  x2_2    10263 non-null  int64 \n",
      " 24  x2_3    10263 non-null  int64 \n",
      " 25  x2_4    10263 non-null  int64 \n",
      " 26  x2_5    10263 non-null  int64 \n",
      " 27  x2_6    10263 non-null  int64 \n",
      " 28  x2_7    10263 non-null  int64 \n",
      " 29  x2_8    10263 non-null  int64 \n",
      " 30  x2_9    10263 non-null  int64 \n",
      " 31  x2_10   10263 non-null  int64 \n",
      " 32  x2_11   10263 non-null  int64 \n",
      " 33  x2_12   10263 non-null  int64 \n",
      " 34  x2_13   10263 non-null  int64 \n",
      " 35  x2_14   10263 non-null  int64 \n",
      " 36  x2_15   10263 non-null  int64 \n",
      " 37  x2_16   10263 non-null  int64 \n",
      " 38  x2_17   10263 non-null  int64 \n",
      " 39  x2_18   10263 non-null  int64 \n",
      " 40  x2_19   10263 non-null  int64 \n",
      " 41  x2_20   10263 non-null  int64 \n",
      " 42  label   10263 non-null  object\n",
      "dtypes: int64(42), object(1)\n",
      "memory usage: 3.4+ MB\n"
     ]
    }
   ],
   "source": [
    "data.info()"
   ]
  },
  {
   "cell_type": "markdown",
   "metadata": {},
   "source": [
    "# plot the data"
   ]
  },
  {
   "cell_type": "code",
   "execution_count": 75,
   "metadata": {},
   "outputs": [
    {
     "data": {
      "image/png": "[encoded data removed]",
      "text/plain": [
       "<Figure size 640x480 with 1 Axes>"
      ]
     },
     "metadata": {},
     "output_type": "display_data"
    }
   ],
   "source": [
    "label_counts = data.label.value_counts()\n",
    "sns.barplot(label_counts, color='cyan')\n",
    "plt.xticks(rotation=45)\n",
    "plt.title(\"Labels counts\")\n",
    "plt.show()\n"
   ]
  },
  {
   "cell_type": "code",
   "execution_count": 76,
   "metadata": {},
   "outputs": [
    {
     "data": {
      "text/plain": [
       "array(['I Love You', 'Thank You', 'Yes', 'No', 'Hello'], dtype=object)"
      ]
     },
     "execution_count": 76,
     "metadata": {},
     "output_type": "execute_result"
    }
   ],
   "source": [
    "labels=data['label'].unique()\n",
    "labels"
   ]
  },
  {
   "cell_type": "code",
   "execution_count": 77,
   "metadata": {},
   "outputs": [
    {
     "data": {
      "image/png": "[encoded data removed]",
      "text/plain": [
       "<Figure size 640x480 with 1 Axes>"
      ]
     },
     "metadata": {},
     "output_type": "display_data"
    }
   ],
   "source": [
    "plt.pie(label_counts, labels=['Hello', 'No', 'Thank You', 'Yes', 'I Love You'],\n",
    "        autopct='%.0f%%', explode=[0.1, 0.1, 0, 0, 0],\n",
    "        colors=['green', 'purple', 'pink', 'skyblue', 'cyan'])\n",
    "plt.show()"
   ]
  },
  {
   "cell_type": "markdown",
   "metadata": {},
   "source": [
    "# Split the data"
   ]
  },
  {
   "cell_type": "code",
   "execution_count": 78,
   "metadata": {},
   "outputs": [],
   "source": [
    "x = data.iloc[:, :-1].values\n",
    "y = data.iloc[:, -1].values"
   ]
  },
  {
   "cell_type": "code",
   "execution_count": 79,
   "metadata": {},
   "outputs": [],
   "source": [
    "x_train, x_test, y_train, y_test = train_test_split(x, y, test_size=0.2, random_state=42)"
   ]
  },
  {
   "cell_type": "code",
   "execution_count": 80,
   "metadata": {},
   "outputs": [
    {
     "name": "stdout",
     "output_type": "stream",
     "text": [
      "Model score: 99.85%\n"
     ]
    }
   ],
   "source": [
    "forset_model = RandomForestClassifier().fit(x_train, y_train)\n",
    "print(\"Model score: {:.2f}%\".format(forset_model.score(x_test, y_test) * 100))"
   ]
  },
  {
   "cell_type": "code",
   "execution_count": 81,
   "metadata": {},
   "outputs": [],
   "source": [
    "y_pred = forset_model.predict(x_test)"
   ]
  },
  {
   "cell_type": "code",
   "execution_count": 82,
   "metadata": {},
   "outputs": [
    {
     "name": "stdout",
     "output_type": "stream",
     "text": [
      "              precision    recall  f1-score   support\n",
      "\n",
      "       Hello       1.00      1.00      1.00       480\n",
      "  I Love You       1.00      0.99      1.00       339\n",
      "          No       1.00      1.00      1.00       474\n",
      "   Thank You       1.00      1.00      1.00       397\n",
      "         Yes       1.00      1.00      1.00       363\n",
      "\n",
      "    accuracy                           1.00      2053\n",
      "   macro avg       1.00      1.00      1.00      2053\n",
      "weighted avg       1.00      1.00      1.00      2053\n",
      "\n"
     ]
    }
   ],
   "source": [
    "conf_matrics = confusion_matrix(y_test, y_pred)\n",
    "print(classification_report(y_test,  y_pred))"
   ]
  },
  {
   "cell_type": "code",
   "execution_count": 83,
   "metadata": {},
   "outputs": [
    {
     "data": {
      "image/png": "[encoded data removed]",
      "text/plain": [
       "<Figure size 640x480 with 2 Axes>"
      ]
     },
     "metadata": {},
     "output_type": "display_data"
    }
   ],
   "source": [
    "sns.heatmap(conf_matrics, annot=True, cmap='coolwarm', fmt='.2f')\n",
    "plt.show()"
   ]
  },
  {
   "cell_type": "code",
   "execution_count": 84,
   "metadata": {},
   "outputs": [],
   "source": [
    "file = open('random_ft.pkl', mode='wb')\n",
    "pkl.dump(forset_model, file=file)\n",
    "file.close()"
   ]
  }
 ],
 "metadata": {
  "kernelspec": {
   "display_name": "Python 3",
   "language": "python",
   "name": "python3"
  },
  "language_info": {
   "codemirror_mode": {
    "name": "ipython",
    "version": 3
   },
   "file_extension": ".py",
   "mimetype": "text/x-python",
   "name": "python",
   "nbconvert_exporter": "python",
   "pygments_lexer": "ipython3",
   "version": "3.11.5"
  }
 },
 "nbformat": 4,
 "nbformat_minor": 2
}
